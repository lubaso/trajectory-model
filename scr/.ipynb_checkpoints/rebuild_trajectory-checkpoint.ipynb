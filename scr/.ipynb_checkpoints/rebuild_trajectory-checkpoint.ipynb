{
 "cells": [
  {
   "cell_type": "markdown",
   "id": "09ed0fc3",
   "metadata": {},
   "source": [
    "# Title"
   ]
  },
  {
   "cell_type": "markdown",
   "id": "0de86a3a",
   "metadata": {},
   "source": [
    "## Import libraries"
   ]
  },
  {
   "cell_type": "code",
   "execution_count": 1,
   "id": "afad3e3c",
   "metadata": {},
   "outputs": [],
   "source": [
    "## Import libraries\n",
    "import pandas as pd\n",
    "import matplotlib.pyplot as plt\n",
    "import seaborn as sns\n",
    "import numpy as np"
   ]
  },
  {
   "cell_type": "markdown",
   "id": "97d7d0eb",
   "metadata": {},
   "source": [
    "## Read in data"
   ]
  },
  {
   "cell_type": "code",
   "execution_count": 8,
   "id": "138878b0",
   "metadata": {},
   "outputs": [
    {
     "data": {
      "text/html": [
       "<div>\n",
       "<style scoped>\n",
       "    .dataframe tbody tr th:only-of-type {\n",
       "        vertical-align: middle;\n",
       "    }\n",
       "\n",
       "    .dataframe tbody tr th {\n",
       "        vertical-align: top;\n",
       "    }\n",
       "\n",
       "    .dataframe thead th {\n",
       "        text-align: right;\n",
       "    }\n",
       "</style>\n",
       "<table border=\"1\" class=\"dataframe\">\n",
       "  <thead>\n",
       "    <tr style=\"text-align: right;\">\n",
       "      <th></th>\n",
       "      <th>person_id</th>\n",
       "      <th>age</th>\n",
       "      <th>time</th>\n",
       "      <th>link_id</th>\n",
       "      <th>x</th>\n",
       "      <th>y</th>\n",
       "      <th>act_type</th>\n",
       "      <th>event_type</th>\n",
       "      <th>length</th>\n",
       "      <th>leg_mode</th>\n",
       "    </tr>\n",
       "  </thead>\n",
       "  <tbody>\n",
       "    <tr>\n",
       "      <th>0</th>\n",
       "      <td>35868_1</td>\n",
       "      <td>28</td>\n",
       "      <td>19563.0</td>\n",
       "      <td>71_1</td>\n",
       "      <td>680946.624547</td>\n",
       "      <td>4.821377e+06</td>\n",
       "      <td>home</td>\n",
       "      <td>actend</td>\n",
       "      <td>423.466451</td>\n",
       "      <td>NaN</td>\n",
       "    </tr>\n",
       "    <tr>\n",
       "      <th>1</th>\n",
       "      <td>35868_1</td>\n",
       "      <td>28</td>\n",
       "      <td>19563.0</td>\n",
       "      <td>71_1</td>\n",
       "      <td>680946.624547</td>\n",
       "      <td>4.821377e+06</td>\n",
       "      <td>NaN</td>\n",
       "      <td>departure</td>\n",
       "      <td>423.466451</td>\n",
       "      <td>walk</td>\n",
       "    </tr>\n",
       "    <tr>\n",
       "      <th>2</th>\n",
       "      <td>14534_2</td>\n",
       "      <td>28</td>\n",
       "      <td>19696.0</td>\n",
       "      <td>37_7</td>\n",
       "      <td>679400.695450</td>\n",
       "      <td>4.820574e+06</td>\n",
       "      <td>home</td>\n",
       "      <td>actend</td>\n",
       "      <td>467.959651</td>\n",
       "      <td>NaN</td>\n",
       "    </tr>\n",
       "    <tr>\n",
       "      <th>3</th>\n",
       "      <td>14534_2</td>\n",
       "      <td>28</td>\n",
       "      <td>19696.0</td>\n",
       "      <td>37_7</td>\n",
       "      <td>679400.695450</td>\n",
       "      <td>4.820574e+06</td>\n",
       "      <td>NaN</td>\n",
       "      <td>departure</td>\n",
       "      <td>467.959651</td>\n",
       "      <td>car</td>\n",
       "    </tr>\n",
       "    <tr>\n",
       "      <th>4</th>\n",
       "      <td>14534_2</td>\n",
       "      <td>28</td>\n",
       "      <td>19696.0</td>\n",
       "      <td>NaN</td>\n",
       "      <td>NaN</td>\n",
       "      <td>NaN</td>\n",
       "      <td>NaN</td>\n",
       "      <td>PersonEntersVehicle</td>\n",
       "      <td>NaN</td>\n",
       "      <td>NaN</td>\n",
       "    </tr>\n",
       "  </tbody>\n",
       "</table>\n",
       "</div>"
      ],
      "text/plain": [
       "  person_id  age     time link_id              x             y act_type  \\\n",
       "0   35868_1   28  19563.0    71_1  680946.624547  4.821377e+06     home   \n",
       "1   35868_1   28  19563.0    71_1  680946.624547  4.821377e+06      NaN   \n",
       "2   14534_2   28  19696.0    37_7  679400.695450  4.820574e+06     home   \n",
       "3   14534_2   28  19696.0    37_7  679400.695450  4.820574e+06      NaN   \n",
       "4   14534_2   28  19696.0     NaN            NaN           NaN      NaN   \n",
       "\n",
       "            event_type      length leg_mode  \n",
       "0               actend  423.466451      NaN  \n",
       "1            departure  423.466451     walk  \n",
       "2               actend  467.959651      NaN  \n",
       "3            departure  467.959651      car  \n",
       "4  PersonEntersVehicle         NaN      NaN  "
      ]
     },
     "execution_count": 8,
     "metadata": {},
     "output_type": "execute_result"
    }
   ],
   "source": [
    "## Read in data\n",
    "df = pd.read_csv('../input/output_trajectory_raw_complete.gz')\n",
    "df.head()"
   ]
  },
  {
   "cell_type": "markdown",
   "id": "749a2ade",
   "metadata": {},
   "source": [
    "## Fill in NA/NaN values"
   ]
  },
  {
   "cell_type": "code",
   "execution_count": 11,
   "id": "a8a3cdf9",
   "metadata": {},
   "outputs": [
    {
     "data": {
      "text/plain": [
       "['link_id', 'x', 'y', 'act_type', 'length', 'leg_mode']"
      ]
     },
     "execution_count": 11,
     "metadata": {},
     "output_type": "execute_result"
    }
   ],
   "source": [
    "## Create functions to fill in NA/NaN values\n",
    "\n",
    "def forward_fill(cols, df, group):\n",
    "    \"\"\"\n",
    "    Forward fill NA/NaN values for given columns in a data frame.\n",
    "    \n",
    "    Parameters:\n",
    "        -cols (list): List of columns to foward fill NA/NaN values.\n",
    "        -df (DataFrame): DataFrame with NA/NaN values.\n",
    "        -group (str) : Name of column to groupby \n",
    "        \n",
    "    Returns:\n",
    "        -df (DataFrame): Returns DataFrame with missing values filled \n",
    "    \"\"\"\"\n",
    "    \n",
    "    # Loop over list of columns \n",
    "    for col in cols:\n",
    "    \n",
    "        # Forward fill  \n",
    "        df[col] = df.groupby([group])[col].ffill()\n",
    "    \n",
    "    return df \n",
    "\n",
    "def back_fill(cols, df, group):\n",
    "    \"\"\"\n",
    "    Backward fill NA/NaN values for given columns in a data frame.\n",
    "    \n",
    "    Parameters:\n",
    "        -cols (list): List of columns to backward fill NA/NaN values.\n",
    "        -df (DataFrame): DataFrame with NA/NaN values.\n",
    "        -group (str) : Name of column to groupby \n",
    "        \n",
    "    Returns:\n",
    "        -df (DataFrame): Returns DataFrame with missing values filled \n",
    "    \"\"\"\"\n",
    "    \n",
    "    # Loop over list of columns \n",
    "    for col in cols:\n",
    "    \n",
    "        # Backward fill  \n",
    "        df[col] = df.groupby([group])[col].bfill()\n",
    "    \n",
    "    return df "
   ]
  },
  {
   "cell_type": "code",
   "execution_count": null,
   "id": "68a692ee",
   "metadata": {},
   "outputs": [],
   "source": [
    "# Fill in NA/NaN values\n",
    "\n",
    "group = 'person_id'\n",
    "\n",
    "## Forward fill NA/NaN values\n",
    "forward_cols= ['link_id', 'x', 'y', 'length', 'leg_mode']\n",
    "\n",
    "## Backward fill NA/NaN values\n",
    "\n",
    "backward_cols = ['act_type']\n",
    "df = back_fill(backward_cols, df, group)"
   ]
  },
  {
   "cell_type": "code",
   "execution_count": 16,
   "id": "415bc931",
   "metadata": {},
   "outputs": [
    {
     "data": {
      "text/plain": [
       "['link_id', 'x', 'y', 'act_type', 'length', 'leg_mode']"
      ]
     },
     "execution_count": 16,
     "metadata": {},
     "output_type": "execute_result"
    }
   ],
   "source": [
    "df.columns[df.isna().any()].tolist()"
   ]
  },
  {
   "cell_type": "code",
   "execution_count": 14,
   "id": "d7ebb1e6",
   "metadata": {},
   "outputs": [
    {
     "data": {
      "text/plain": [
       "str"
      ]
     },
     "execution_count": 14,
     "metadata": {},
     "output_type": "execute_result"
    }
   ],
   "source": [
    "cols= ['veh_id', 'leg_mode', 'act_type']\n",
    "\n",
    "type(\"test\")"
   ]
  },
  {
   "cell_type": "code",
   "execution_count": null,
   "id": "0f53b7f9",
   "metadata": {},
   "outputs": [],
   "source": []
  }
 ],
 "metadata": {
  "kernelspec": {
   "display_name": "Python 3",
   "language": "python",
   "name": "python3"
  },
  "language_info": {
   "codemirror_mode": {
    "name": "ipython",
    "version": 3
   },
   "file_extension": ".py",
   "mimetype": "text/x-python",
   "name": "python",
   "nbconvert_exporter": "python",
   "pygments_lexer": "ipython3",
   "version": "3.7.7"
  }
 },
 "nbformat": 4,
 "nbformat_minor": 5
}
